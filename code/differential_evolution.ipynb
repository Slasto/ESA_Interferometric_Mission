{
 "cells": [
  {
   "cell_type": "markdown",
   "metadata": {},
   "source": [
    "# Differential evolution\n",
    "\n",
    "Algorithm: https://en.wikipedia.org/wiki/Differential_evolution\n",
    "\n",
    "Self-adaptive Differential Evolution in pygmo flavour (pDE): https://esa.github.io/pygmo2/algorithms.html#pygmo.de1220"
   ]
  },
  {
   "cell_type": "code",
   "execution_count": 5,
   "metadata": {},
   "outputs": [],
   "source": [
    "import pygmo as pg\n",
    "from tqdm import tqdm\n",
    "from IPython.display import clear_output\n",
    "from modules.plotter import print_result, plot_fitness_improvement\n",
    "from modules.golomb_problem import init_simple_problem, init_medium_problem, orbital_golomb_array\n",
    "\n",
    "# from matplotlib_inline.backend_inline import set_matplotlib_formats\n",
    "# set_matplotlib_formats('jpeg')  # Configures Matplotlib to output inline plots as JPEGs, reducing the file size.\n",
    "\n",
    "N_ITERATION = 5\n",
    "VARIANTS = [i for i in range(1, 19)] # all\n",
    "\n",
    "class UniqueDistanceProblem(pg.problem):\n",
    "    def __init__(self, udp):\n",
    "        pg.core.problem.__init__(self)\n",
    "        self.udp = udp\n",
    "\n",
    "    def fitness(self, x):\n",
    "        return self.udp.fitness_impl(x, reduce_fill_if_not_optimal=True)\n",
    "\n",
    "def get_n_iteration(n_sats: int, force_golomb : bool = False):\n",
    "    if force_golomb :\n",
    "        return int(n_sats * 6 * 10 * 1.5)\n",
    "    return n_sats * 6 * 10 \n",
    "\n",
    "def get_population_size(n_sats: int):\n",
    "    return n_sats * 6 * 3\n",
    "\n",
    "def optimize_and_plot(problem: pg.problem, algo: pg.algorithm):\n",
    "    algo.set_verbosity(2)\n",
    "    \n",
    "    udp = problem.extract(orbital_golomb_array)\n",
    "    solutions_log, fitness_log = [], []\n",
    "    for _ in tqdm(range(N_ITERATION)):\n",
    "        evolve = algo.evolve(\n",
    "            pg.population(\n",
    "                problem, \n",
    "                size=get_population_size(udp.n_sat)\n",
    "                )\n",
    "            )\n",
    "        clear_output()\n",
    "        \n",
    "        solutions_log.append(evolve.champion_x)\n",
    "        fitness_log.append(log[2] for log in algo.extract(pg.de1220).get_log() for _ in (0, 1)) # FIX\n",
    "    average_fitness = [sum(fitness) / N_ITERATION for fitness in zip(*fitness_log)]\n",
    "\n",
    "    plot_fitness_improvement(average_fitness)\n",
    "    print_result(udp, solutions_log, show_simulated_reconstruction=True)\n",
    "    return solutions_log"
   ]
  },
  {
   "cell_type": "markdown",
   "metadata": {},
   "source": [
    "## Simple Problem"
   ]
  },
  {
   "cell_type": "markdown",
   "metadata": {},
   "source": [
    "### Stock Problem"
   ]
  },
  {
   "cell_type": "code",
   "execution_count": null,
   "metadata": {},
   "outputs": [],
   "source": [
    "udp = init_simple_problem()\n",
    "_ = optimize_and_plot(\n",
    "    problem = pg.problem(udp),\n",
    "    algo = pg.algorithm(\n",
    "        pg.de1220(\n",
    "            gen=get_n_iteration(udp.n_sat,False), \n",
    "            allowed_variants=VARIANTS,\n",
    "            variant_adptv=1,\n",
    "            ftol=0,\n",
    "            xtol=0, \n",
    "            memory=True\n",
    "        )\n",
    "    )\n",
    ")\n",
    "del udp"
   ]
  },
  {
   "cell_type": "markdown",
   "metadata": {},
   "source": [
    "### Force Golomb"
   ]
  },
  {
   "cell_type": "code",
   "execution_count": null,
   "metadata": {},
   "outputs": [],
   "source": [
    "udp = init_simple_problem()\n",
    "_ = optimize_and_plot(\n",
    "    problem = UniqueDistanceProblem(udp),\n",
    "    algo = pg.algorithm(\n",
    "        pg.de1220(\n",
    "            gen=get_n_iteration(udp.n_sat, True), \n",
    "            allowed_variants=VARIANTS,\n",
    "            variant_adptv=1,\n",
    "            ftol=0,\n",
    "            xtol=0, \n",
    "            memory=True\n",
    "        )\n",
    "    )\n",
    ")\n",
    "del udp"
   ]
  },
  {
   "cell_type": "markdown",
   "metadata": {},
   "source": [
    "## Medium Problem"
   ]
  },
  {
   "cell_type": "code",
   "execution_count": null,
   "metadata": {},
   "outputs": [],
   "source": [
    "udp = init_medium_problem()\n",
    "_ = optimize_and_plot(\n",
    "    problem = pg.problem(udp),\n",
    "    algo = pg.algorithm(\n",
    "        pg.de1220(\n",
    "            gen=get_n_iteration(udp.n_sat, False), \n",
    "            allowed_variants=VARIANTS,\n",
    "            variant_adptv=1,\n",
    "            ftol=0,\n",
    "            xtol=0, \n",
    "            memory=True\n",
    "        )\n",
    "    )\n",
    ")\n",
    "del udp"
   ]
  },
  {
   "cell_type": "markdown",
   "metadata": {},
   "source": [
    "### Force Golomb"
   ]
  },
  {
   "cell_type": "code",
   "execution_count": null,
   "metadata": {},
   "outputs": [],
   "source": [
    "udp = init_medium_problem()\n",
    "_ = optimize_and_plot(\n",
    "    problem = UniqueDistanceProblem(udp),\n",
    "    algo = pg.algorithm(\n",
    "        pg.de1220(\n",
    "            gen=get_n_iteration(udp.n_sat, True), \n",
    "            allowed_variants=VARIANTS,\n",
    "            variant_adptv=1,\n",
    "            ftol=0,\n",
    "            xtol=0, \n",
    "            memory=True\n",
    "        )\n",
    "    )\n",
    ")\n",
    "del udp"
   ]
  }
 ],
 "metadata": {
  "kernelspec": {
   "display_name": "Python 3",
   "language": "python",
   "name": "python3"
  },
  "language_info": {
   "codemirror_mode": {
    "name": "ipython",
    "version": 3
   },
   "file_extension": ".py",
   "mimetype": "text/x-python",
   "name": "python",
   "nbconvert_exporter": "python",
   "pygments_lexer": "ipython3",
   "version": "3.11.11"
  }
 },
 "nbformat": 4,
 "nbformat_minor": 2
}
