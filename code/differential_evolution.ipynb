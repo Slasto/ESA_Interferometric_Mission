{
 "cells": [
  {
   "cell_type": "markdown",
   "metadata": {},
   "source": [
    "# Differential evolution\n",
    "\n",
    "Algorithm: https://en.wikipedia.org/wiki/Differential_evolution"
   ]
  },
  {
   "cell_type": "code",
   "execution_count": 13,
   "metadata": {},
   "outputs": [],
   "source": [
    "import pygmo as pg\n",
    "from IPython.display import clear_output\n",
    "from modules.plotter import print_result, plot_fitness_improvement\n",
    "from modules.golomb_problem import init_simple_problem, init_medium_problem\n",
    "\n",
    "# from matplotlib_inline.backend_inline import set_matplotlib_formats\n",
    "# set_matplotlib_formats('jpeg')  # Configures Matplotlib to output inline plots as JPEGs, reducing the file size."
   ]
  },
  {
   "cell_type": "markdown",
   "metadata": {},
   "source": [
    "## Simple Problem"
   ]
  },
  {
   "cell_type": "markdown",
   "metadata": {},
   "source": [
    "Doc: https://esa.github.io/pygmo2/overview.html\n",
    "\n",
    "Self-adaptive Differential Evolution in pygmo flavour (pDE): The adaptation of the mutation variant is added to `pygmo.sade`"
   ]
  },
  {
   "cell_type": "markdown",
   "metadata": {},
   "source": [
    "### Stock Problem"
   ]
  },
  {
   "cell_type": "code",
   "execution_count": null,
   "metadata": {},
   "outputs": [],
   "source": [
    "UDP = init_simple_problem()\n",
    "algo = pg.algorithm(\n",
    "    pg.de1220(\n",
    "        gen=300, \n",
    "        allowed_variants=[i for i in range(1, 19)],\n",
    "        variant_adptv=1,\n",
    "        ftol=0,\n",
    "        xtol=0, \n",
    "        memory=True\n",
    "        )\n",
    "    )\n",
    "algo.set_verbosity(2)\n",
    "prob = pg.problem(init_simple_problem())\n",
    "pop = pg.population(prob,size=90)\n",
    "evolve = algo.evolve(pop)\n",
    "\n",
    "clear_output()\n",
    "plot_fitness_improvement(algo.extract(pg.de1220))\n",
    "print_result(UDP,evolve.champion_x, show_simulated_reconstruction=True)\n",
    "del UDP, algo, prob, pop, evolve"
   ]
  },
  {
   "cell_type": "markdown",
   "metadata": {},
   "source": [
    "### Force Golomb"
   ]
  },
  {
   "cell_type": "code",
   "execution_count": null,
   "metadata": {},
   "outputs": [],
   "source": [
    "class CustomUDP(pg.problem):\n",
    "    def __init__(self, udp):\n",
    "        pg.core.problem.__init__(self) \n",
    "        self.udp = udp\n",
    "    def fitness(self, x):\n",
    "        return self.udp.fitness_impl(x, reduce_fill_if_not_optimal=False)\n",
    "UDP = CustomUDP(init_simple_problem())\n",
    "\n",
    "algo = pg.algorithm(\n",
    "    pg.de1220(\n",
    "        gen=150, \n",
    "        allowed_variants=[i for i in range(1, 19)],\n",
    "        variant_adptv=1,\n",
    "        ftol=0,\n",
    "        xtol=0, \n",
    "        memory=True\n",
    "        )\n",
    "    )\n",
    "algo.set_verbosity(2)\n",
    "prob = pg.problem(init_simple_problem())\n",
    "pop = pg.population(prob,size=90)\n",
    "evolve = algo.evolve(pop)\n",
    "\n",
    "clear_output()\n",
    "plot_fitness_improvement(algo.extract(pg.de1220))\n",
    "print_result(UDP.udp,evolve.champion_x,show_simulated_reconstruction=True)\n",
    "del UDP, algo, prob, pop, evolve"
   ]
  },
  {
   "cell_type": "markdown",
   "metadata": {},
   "source": [
    "## Medium Problem"
   ]
  },
  {
   "cell_type": "code",
   "execution_count": null,
   "metadata": {},
   "outputs": [],
   "source": [
    "UDP_medium = init_medium_problem()\n",
    "algo = pg.algorithm(\n",
    "    pg.de1220(\n",
    "        gen=2000, \n",
    "        allowed_variants=[i for i in range(1, 19)],\n",
    "        variant_adptv=1,\n",
    "        ftol=0,\n",
    "        xtol=1e-3, \n",
    "        memory=True\n",
    "        )\n",
    "    )\n",
    "algo.set_verbosity(2)\n",
    "prob = pg.problem(UDP_medium) \n",
    "pop = pg.population(prob,size=750)\n",
    "evolve = algo.evolve(pop) \n",
    "\n",
    "clear_output()\n",
    "plot_fitness_improvement(algo.extract(pg.de1220))\n",
    "print_result(UDP_medium,evolve.champion_x)\n",
    "del algo, prob, pop, UDP_medium"
   ]
  },
  {
   "cell_type": "code",
   "execution_count": null,
   "metadata": {},
   "outputs": [],
   "source": [
    "UDP_medium = init_medium_problem()\n",
    "algo = pg.algorithm(\n",
    "    pg.de1220(\n",
    "        gen=5000, \n",
    "        allowed_variants=[i for i in range(1, 19)],\n",
    "        variant_adptv=1,\n",
    "        ftol=0,\n",
    "        xtol=1e-3, \n",
    "        memory=True\n",
    "        )\n",
    "    )\n",
    "algo.set_verbosity(2)\n",
    "prob = pg.problem(UDP_medium) \n",
    "pop = pg.population(prob,size=750)\n",
    "evolve = algo.evolve(pop) \n",
    "\n",
    "clear_output()\n",
    "plot_fitness_improvement(algo.extract(pg.de1220))\n",
    "print_result(UDP_medium,  evolve.champion_x)\n",
    "del algo, prob, pop, UDP_medium"
   ]
  },
  {
   "cell_type": "markdown",
   "metadata": {},
   "source": [
    "### Reduce if not optimal"
   ]
  },
  {
   "cell_type": "code",
   "execution_count": null,
   "metadata": {},
   "outputs": [],
   "source": [
    "from modules.golomb_problem import orbital_golomb_array\n",
    "class golomb_reduced(orbital_golomb_array) :\n",
    "    def fitness(self, x):\n",
    "        return super().fitness_impl(x=x, reduce_fill_if_not_optimal=True)\n",
    "udp = init_medium_problem()\n",
    "UDP_medium = golomb_reduced(n_sat=udp.n_sat,ic=udp.ic,T=udp.T)\n",
    "\n",
    "algo = pg.algorithm(\n",
    "    pg.de1220(\n",
    "        gen=5000, \n",
    "        allowed_variants=[i for i in range(1, 19)],\n",
    "        variant_adptv=1,\n",
    "        ftol=0,\n",
    "        xtol=1e-3, \n",
    "        memory=True\n",
    "        )\n",
    "    )\n",
    "algo.set_verbosity(2)\n",
    "prob = pg.problem(UDP_medium) \n",
    "pop = pg.population(prob,size=750)\n",
    "evolve = algo.evolve(pop) \n",
    "\n",
    "clear_output() \n",
    "plot_fitness_improvement(algo.extract(pg.de1220))\n",
    "print_result(UDP_medium,evolve.champion_x)\n",
    "del algo, prob, pop, udp, UDP_medium"
   ]
  },
  {
   "cell_type": "markdown",
   "metadata": {},
   "source": [
    "## El memes"
   ]
  },
  {
   "cell_type": "code",
   "execution_count": null,
   "metadata": {},
   "outputs": [],
   "source": [
    "UDP_medium = init_medium_problem()\n",
    "algo = pg.algorithm(\n",
    "    pg.de1220(\n",
    "        gen=10000, \n",
    "        allowed_variants=[i for i in range(1, 19)],\n",
    "        variant_adptv=1,\n",
    "        ftol=0,\n",
    "        xtol=1e-3, \n",
    "        memory=True\n",
    "        )\n",
    "    )\n",
    "algo.set_verbosity(2)\n",
    "prob = pg.problem(UDP_medium) \n",
    "pop = pg.population(prob,size=750*2)\n",
    "evolve = algo.evolve(pop) \n",
    "\n",
    "clear_output()\n",
    "plot_fitness_improvement(algo.extract(pg.de1220))\n",
    "print_result(UDP_medium,  evolve.champion_x)\n",
    "del algo, prob, pop, UDP_medium"
   ]
  }
 ],
 "metadata": {
  "kernelspec": {
   "display_name": "Python 3",
   "language": "python",
   "name": "python3"
  },
  "language_info": {
   "codemirror_mode": {
    "name": "ipython",
    "version": 3
   },
   "file_extension": ".py",
   "mimetype": "text/x-python",
   "name": "python",
   "nbconvert_exporter": "python",
   "pygments_lexer": "ipython3",
   "version": "3.11.11"
  }
 },
 "nbformat": 4,
 "nbformat_minor": 2
}
