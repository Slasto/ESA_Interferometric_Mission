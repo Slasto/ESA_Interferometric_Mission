{
 "cells": [
  {
   "cell_type": "code",
   "execution_count": 2,
   "metadata": {},
   "outputs": [],
   "source": [
    "from modules.golomb_problem import init_simple_problem, init_medium_problem\n",
    "from modules.grey_wolf_optimizer import gwo\n",
    "from modules.plotter import print_result, plot_fitness_improvement\n",
    "from modules.gwo import improved_grey_wolf_optimizer, grey_wolf_optimizer\n",
    "from IPython.display import clear_output\n",
    "n_iter = 5\n",
    "\n",
    "def get_n_iteration(n_sats: int, force_golomb : bool = False):\n",
    "    if force_golomb :\n",
    "        return int(n_sats * 6 * 10 * 1.5)\n",
    "    return n_sats * 6 * 10 \n",
    "\n",
    "def get_population_size(n_sats: int):\n",
    "    return n_sats * 6 * 3"
   ]
  },
  {
   "cell_type": "markdown",
   "metadata": {},
   "source": [
    "vettore corrispondente alla miglior ricostruzione dell'immagine "
   ]
  },
  {
   "cell_type": "code",
   "execution_count": 2,
   "metadata": {},
   "outputs": [],
   "source": [
    "best_pos_ever = [-0.000599, -0.007124, 0.002772, 0.005313, -0.007049, 0.032415, -0.289797, 0.060649, -0.319332, -0.368774, -0.037936, -0.173303, -0.194020, 0.009454, 0.145101, 0.065171, -0.122505, 0.069189, -0.445443, 0.074369, -0.007291, -0.032741, 0.039555, -0.003120, -0.000946, -0.002305, -0.056462, 0.079689, -0.015379, 0.083645]"
   ]
  },
  {
   "cell_type": "markdown",
   "metadata": {},
   "source": [
    "## Grey Wolf optimizer simple No Force Golomb\n",
    "\n",
    "GWO libs : https://pypi.org/project/pyMetaheuristic/"
   ]
  },
  {
   "cell_type": "code",
   "execution_count": null,
   "metadata": {},
   "outputs": [],
   "source": [
    "udp_simple = init_simple_problem()\n",
    "def fitness_simple(solution):\n",
    "    return udp_simple.fitness_impl(solution)[0]\n",
    "parameters_lib = {\n",
    "    'pack_size': get_population_size(udp_simple.n_sat),\n",
    "    'min_values': (-1,)*6 * udp_simple.n_sat,\n",
    "    'max_values': (1,)*6 * udp_simple.n_sat,\n",
    "    'iterations': get_n_iteration(udp_simple.n_sat),\n",
    "\t'verbose': True,\n",
    "\t'start_init': None,\n",
    "\t'target_value': None\n",
    "}\n",
    "parameters_nolib = {\n",
    "    \"max_iter\": get_n_iteration(udp_simple.n_sat),\n",
    "    \"num_particles\": get_population_size(udp_simple.n_sat),\n",
    "    \"dim\": 6 * udp_simple.n_sat,\n",
    "    \"minx\": -1,\n",
    "    \"maxx\": 1,\n",
    "    \"verbose\": True,\n",
    "}"
   ]
  },
  {
   "cell_type": "markdown",
   "metadata": {},
   "source": [
    "### Simple Grey Wolf Optimizer (NO libs)\n",
    "docs GWO No libs : https://www.geeksforgeeks.org/implementation-of-grey-wolf-optimization-gwo-algorithm/ "
   ]
  },
  {
   "cell_type": "code",
   "execution_count": null,
   "metadata": {},
   "outputs": [],
   "source": [
    "fit_sum = [0] * parameters_nolib[\"max_iter\"]\n",
    "gwo_sol_nolib = []\n",
    "for i in range(n_iter):\n",
    "    best_position_gwo, vet_fit_gwo_nolib = gwo(fitness=fitness_simple, **parameters_nolib)\n",
    "    clear_output()\n",
    "    gwo_sol_nolib.append(best_position_gwo) \n",
    "    fit_sum = [fit + vet_fit_gwo_nolib[i] for i, fit in enumerate(fit_sum)]\n",
    "fit_sum = [fit/n_iter for fit in fit_sum]\n",
    "\n",
    "plot_fitness_improvement(fit_sum)\n",
    "print_result(udp_simple, gwo_sol_nolib, show_simulated_reconstruction=True)"
   ]
  },
  {
   "cell_type": "markdown",
   "metadata": {},
   "source": [
    "### Grey Wolf Optimizer (Using Libs)"
   ]
  },
  {
   "cell_type": "code",
   "execution_count": null,
   "metadata": {},
   "outputs": [],
   "source": [
    "fit_sum = [0] * parameters_lib['iterations']\n",
    "gwo_sol = []\n",
    "\n",
    "for i in range(n_iter):\n",
    "    gwo, vet_fit_gwo = grey_wolf_optimizer(target_function = fitness_simple, **parameters_lib)\n",
    "    clear_output()\n",
    "    gwo_sol.append(gwo[:-1]) \n",
    "    fit_sum = [fit + vet_fit_gwo[i] for i, fit in enumerate(fit_sum)]\n",
    "fit_sum = [fit/n_iter for fit in fit_sum]\n",
    "\n",
    "plot_fitness_improvement(fit_sum)\n",
    "print_result(udp_simple, gwo_sol,show_simulated_reconstruction=True)"
   ]
  },
  {
   "cell_type": "markdown",
   "metadata": {},
   "source": [
    "### Improve Grey Wolf Optimizer (Using Libs)"
   ]
  },
  {
   "cell_type": "code",
   "execution_count": null,
   "metadata": {},
   "outputs": [],
   "source": [
    "fit_sum = [0] * parameters_lib['iterations']\n",
    "igwo_sol = []\n",
    "\n",
    "for i in range(n_iter):\n",
    "    igwo, vet_fit_igwo = improved_grey_wolf_optimizer(target_function = fitness_simple, **parameters_lib) \n",
    "    clear_output()\n",
    "    igwo_sol.append(igwo[:-1]) \n",
    "    fit_sum = [fit + vet_fit_igwo[i] for i, fit in enumerate(fit_sum)]\n",
    "fit_sum = [fit/n_iter for fit in fit_sum]\n",
    "\n",
    "plot_fitness_improvement(fit_sum)\n",
    "print_result(udp_simple, igwo_sol,show_simulated_reconstruction=True)"
   ]
  },
  {
   "cell_type": "markdown",
   "metadata": {},
   "source": [
    "## Grey Wolf optimizer simple Force Golomb\n"
   ]
  },
  {
   "cell_type": "code",
   "execution_count": null,
   "metadata": {},
   "outputs": [],
   "source": [
    "udp_simple = init_simple_problem()\n",
    "def fitness_simple(solution):\n",
    "    return udp_simple.fitness_impl(solution, reduce_fill_if_not_optimal=True)[0]\n",
    "parameters_lib = {\n",
    "    'pack_size': get_population_size(udp_simple.n_sat),\n",
    "    'min_values': (-1,)*6 * udp_simple.n_sat,\n",
    "    'max_values': (1,)*6 * udp_simple.n_sat,\n",
    "    'iterations': get_n_iteration(udp_simple.n_sat),\n",
    "\t'verbose': True,\n",
    "\t'start_init': None,\n",
    "\t'target_value': None\n",
    "}\n",
    "parameters_nolib = {\n",
    "    \"max_iter\": get_n_iteration(udp_simple.n_sat),\n",
    "    \"num_particles\": get_population_size(udp_simple.n_sat),\n",
    "    \"dim\": 6 * udp_simple.n_sat,\n",
    "    \"minx\": -1,\n",
    "    \"maxx\": 1,\n",
    "    \"verbose\": True,\n",
    "}"
   ]
  },
  {
   "cell_type": "markdown",
   "metadata": {},
   "source": [
    "### Simple Grey Wolf Optimizer (NO libs)\n",
    "docs GWO No libs : https://www.geeksforgeeks.org/implementation-of-grey-wolf-optimization-gwo-algorithm/ "
   ]
  },
  {
   "cell_type": "code",
   "execution_count": null,
   "metadata": {},
   "outputs": [],
   "source": [
    "fit_sum = [0] * parameters_nolib[\"max_iter\"]\n",
    "gwo_sol_nolib = []\n",
    "for i in range(n_iter):\n",
    "    best_position_gwo, vet_fit_gwo_nolib = gwo(fitness=fitness_simple, **parameters_nolib)\n",
    "    clear_output()\n",
    "    gwo_sol_nolib.append(best_position_gwo) \n",
    "    fit_sum = [fit + vet_fit_gwo_nolib[i] for i, fit in enumerate(fit_sum)]\n",
    "fit_sum = [fit/n_iter for fit in fit_sum]\n",
    "\n",
    "plot_fitness_improvement(fit_sum)\n",
    "print_result(udp_simple, gwo_sol_nolib, show_simulated_reconstruction=True)"
   ]
  },
  {
   "cell_type": "markdown",
   "metadata": {},
   "source": [
    "### Grey Wolf Optimizer (Using Libs)"
   ]
  },
  {
   "cell_type": "code",
   "execution_count": null,
   "metadata": {},
   "outputs": [],
   "source": [
    "fit_sum = [0] * parameters_lib['iterations']\n",
    "gwo_sol = []\n",
    "\n",
    "for i in range(n_iter):\n",
    "    gwo, vet_fit_gwo = grey_wolf_optimizer(target_function = fitness_simple, **parameters_lib)\n",
    "    clear_output()\n",
    "    gwo_sol.append(gwo[:-1]) \n",
    "    fit_sum = [fit + vet_fit_gwo[i] for i, fit in enumerate(fit_sum)]\n",
    "fit_sum = [fit/n_iter for fit in fit_sum]\n",
    "\n",
    "plot_fitness_improvement(fit_sum)\n",
    "print_result(udp_simple, gwo_sol,show_simulated_reconstruction=True)"
   ]
  },
  {
   "cell_type": "markdown",
   "metadata": {},
   "source": [
    "### Improve Grey Wolf Optimizer (Using Libs)"
   ]
  },
  {
   "cell_type": "code",
   "execution_count": null,
   "metadata": {},
   "outputs": [],
   "source": [
    "fit_sum = [0] * parameters_lib['iterations']\n",
    "igwo_sol = []\n",
    "\n",
    "for i in range(n_iter):\n",
    "    igwo, vet_fit_igwo = improved_grey_wolf_optimizer(target_function = fitness_simple, **parameters_lib) \n",
    "    clear_output()\n",
    "    igwo_sol.append(igwo[:-1]) \n",
    "    fit_sum = [fit + vet_fit_igwo[i] for i, fit in enumerate(fit_sum)]\n",
    "fit_sum = [fit/n_iter for fit in fit_sum]\n",
    "\n",
    "plot_fitness_improvement(fit_sum)\n",
    "print_result(udp_simple, igwo_sol,show_simulated_reconstruction=True)"
   ]
  },
  {
   "cell_type": "markdown",
   "metadata": {},
   "source": [
    "## Grey Wolf optimizer medium No Force Golomb\n"
   ]
  },
  {
   "cell_type": "code",
   "execution_count": null,
   "metadata": {},
   "outputs": [],
   "source": [
    "udp_medium = init_medium_problem()\n",
    "def fitness_medium(solution):\n",
    "    return udp_medium.fitness_impl(solution)[0]\n",
    "parameters_lib = {\n",
    "    'pack_size': get_population_size(udp_medium.n_sat),\n",
    "    'min_values': (-1,)*6 * udp_medium.n_sat,\n",
    "    'max_values': (1,)*6 * udp_medium.n_sat,\n",
    "    'iterations': get_n_iteration(udp_medium.n_sat),\n",
    "\t'verbose': True,\n",
    "\t'start_init': None,\n",
    "\t'target_value': None\n",
    "}\n",
    "parameters_nolib = {\n",
    "    \"max_iter\": get_n_iteration(udp_medium.n_sat),\n",
    "    \"num_particles\": get_population_size(udp_medium.n_sat),\n",
    "    \"dim\": 6 * udp_medium.n_sat,\n",
    "    \"minx\": -1,\n",
    "    \"maxx\": 1,\n",
    "    \"verbose\": True,\n",
    "}"
   ]
  },
  {
   "cell_type": "markdown",
   "metadata": {},
   "source": [
    "### Simple Grey Wolf Optimizer (NO libs)\n",
    "docs GWO No libs : https://www.geeksforgeeks.org/implementation-of-grey-wolf-optimization-gwo-algorithm/ "
   ]
  },
  {
   "cell_type": "code",
   "execution_count": null,
   "metadata": {},
   "outputs": [],
   "source": [
    "fit_sum = [0] * parameters_nolib[\"max_iter\"]\n",
    "gwo_sol_nolib = []\n",
    "for i in range(n_iter):\n",
    "    best_position_gwo, vet_fit_gwo_nolib = gwo(fitness=fitness_medium, **parameters_nolib)\n",
    "    clear_output()\n",
    "    gwo_sol_nolib.append(best_position_gwo) \n",
    "    fit_sum = [fit + vet_fit_gwo_nolib[i] for i, fit in enumerate(fit_sum)]\n",
    "fit_sum = [fit/n_iter for fit in fit_sum]\n",
    "\n",
    "plot_fitness_improvement(fit_sum)\n",
    "print_result(udp_medium, gwo_sol_nolib, show_simulated_reconstruction=True)"
   ]
  },
  {
   "cell_type": "markdown",
   "metadata": {},
   "source": [
    "### Grey Wolf Optimizer (Using Libs)"
   ]
  },
  {
   "cell_type": "code",
   "execution_count": null,
   "metadata": {},
   "outputs": [],
   "source": [
    "fit_sum = [0] * parameters_lib['iterations']\n",
    "gwo_sol = []\n",
    "\n",
    "for i in range(n_iter):\n",
    "    gwo, vet_fit_gwo = grey_wolf_optimizer(target_function = fitness_medium, **parameters_lib)\n",
    "    clear_output()\n",
    "    gwo_sol.append(gwo[:-1]) \n",
    "    fit_sum = [fit + vet_fit_gwo[i] for i, fit in enumerate(fit_sum)]\n",
    "fit_sum = [fit/n_iter for fit in fit_sum]\n",
    "\n",
    "plot_fitness_improvement(fit_sum)\n",
    "print_result(udp_medium, gwo_sol,show_simulated_reconstruction=True)"
   ]
  },
  {
   "cell_type": "markdown",
   "metadata": {},
   "source": [
    "### Improve Grey Wolf Optimizer (Using Libs)"
   ]
  },
  {
   "cell_type": "code",
   "execution_count": null,
   "metadata": {},
   "outputs": [],
   "source": [
    "fit_sum = [0] * parameters_lib['iterations']\n",
    "igwo_sol = []\n",
    "\n",
    "for i in range(n_iter):\n",
    "    igwo, vet_fit_igwo = improved_grey_wolf_optimizer(target_function = fitness_medium, **parameters_lib) \n",
    "    clear_output()\n",
    "    igwo_sol.append(igwo[:-1]) \n",
    "    fit_sum = [fit + vet_fit_igwo[i] for i, fit in enumerate(fit_sum)]\n",
    "fit_sum = [fit/n_iter for fit in fit_sum]\n",
    "\n",
    "plot_fitness_improvement(fit_sum)\n",
    "print_result(udp_medium, igwo_sol,show_simulated_reconstruction=True)"
   ]
  },
  {
   "cell_type": "markdown",
   "metadata": {},
   "source": [
    "## Grey Wolf optimizer medium Force Golomb\n"
   ]
  },
  {
   "cell_type": "code",
   "execution_count": null,
   "metadata": {},
   "outputs": [],
   "source": [
    "udp_medium = init_medium_problem()\n",
    "def fitness_medium(solution):\n",
    "    return udp_medium.fitness_impl(solution, reduce_fill_if_not_optimal=True)[0]\n",
    "parameters_lib = {\n",
    "    'pack_size': get_population_size(udp_medium.n_sat),\n",
    "    'min_values': (-1,)*6 * udp_medium.n_sat,\n",
    "    'max_values': (1,)*6 * udp_medium.n_sat,\n",
    "    'iterations': get_n_iteration(udp_medium.n_sat),\n",
    "\t'verbose': True,\n",
    "\t'start_init': None,\n",
    "\t'target_value': None\n",
    "}\n",
    "parameters_nolib = {\n",
    "    \"max_iter\": get_n_iteration(udp_medium.n_sat),\n",
    "    \"num_particles\": get_population_size(udp_medium.n_sat),\n",
    "    \"dim\": 6 * udp_medium.n_sat,\n",
    "    \"minx\": -1,\n",
    "    \"maxx\": 1,\n",
    "    \"verbose\": True,\n",
    "}"
   ]
  },
  {
   "cell_type": "markdown",
   "metadata": {},
   "source": [
    "### Simple Grey Wolf Optimizer (NO libs)\n",
    "docs GWO No libs : https://www.geeksforgeeks.org/implementation-of-grey-wolf-optimization-gwo-algorithm/ "
   ]
  },
  {
   "cell_type": "code",
   "execution_count": null,
   "metadata": {},
   "outputs": [],
   "source": [
    "fit_sum = [0] * parameters_nolib[\"max_iter\"]\n",
    "gwo_sol_nolib = []\n",
    "for i in range(n_iter):\n",
    "    best_position_gwo, vet_fit_gwo_nolib = gwo(fitness=fitness_medium, **parameters_nolib)\n",
    "    clear_output()\n",
    "    gwo_sol_nolib.append(best_position_gwo) \n",
    "    fit_sum = [fit + vet_fit_gwo_nolib[i] for i, fit in enumerate(fit_sum)]\n",
    "fit_sum = [fit/n_iter for fit in fit_sum]\n",
    "\n",
    "plot_fitness_improvement(fit_sum)\n",
    "print_result(udp_medium, gwo_sol_nolib, show_simulated_reconstruction=True)"
   ]
  },
  {
   "cell_type": "markdown",
   "metadata": {},
   "source": [
    "### Grey Wolf Optimizer (Using Libs)"
   ]
  },
  {
   "cell_type": "code",
   "execution_count": null,
   "metadata": {},
   "outputs": [],
   "source": [
    "fit_sum = [0] * parameters_lib['iterations']\n",
    "gwo_sol = []\n",
    "\n",
    "for i in range(n_iter):\n",
    "    gwo, vet_fit_gwo = grey_wolf_optimizer(target_function = fitness_medium, **parameters_lib)\n",
    "    clear_output()\n",
    "    gwo_sol.append(gwo[:-1]) \n",
    "    fit_sum = [fit + vet_fit_gwo[i] for i, fit in enumerate(fit_sum)]\n",
    "fit_sum = [fit/n_iter for fit in fit_sum]\n",
    "\n",
    "plot_fitness_improvement(fit_sum)\n",
    "print_result(udp_medium, gwo_sol,show_simulated_reconstruction=True)"
   ]
  },
  {
   "cell_type": "markdown",
   "metadata": {},
   "source": [
    "### Improve Grey Wolf Optimizer (Using Libs)"
   ]
  },
  {
   "cell_type": "code",
   "execution_count": null,
   "metadata": {},
   "outputs": [],
   "source": [
    "fit_sum = [0] * parameters_lib['iterations']\n",
    "igwo_sol = []\n",
    "\n",
    "for i in range(n_iter):\n",
    "    igwo, vet_fit_igwo = improved_grey_wolf_optimizer(target_function = fitness_medium, **parameters_lib) \n",
    "    clear_output()\n",
    "    igwo_sol.append(igwo[:-1]) \n",
    "    fit_sum = [fit + vet_fit_igwo[i] for i, fit in enumerate(fit_sum)]\n",
    "fit_sum = [fit/n_iter for fit in fit_sum]\n",
    "\n",
    "plot_fitness_improvement(fit_sum)\n",
    "print_result(udp_medium, igwo_sol,show_simulated_reconstruction=True)"
   ]
  }
 ],
 "metadata": {
  "kernelspec": {
   "display_name": "Python 3",
   "language": "python",
   "name": "python3"
  },
  "language_info": {
   "codemirror_mode": {
    "name": "ipython",
    "version": 3
   },
   "file_extension": ".py",
   "mimetype": "text/x-python",
   "name": "python",
   "nbconvert_exporter": "python",
   "pygments_lexer": "ipython3",
   "version": "3.10.15"
  }
 },
 "nbformat": 4,
 "nbformat_minor": 2
}
