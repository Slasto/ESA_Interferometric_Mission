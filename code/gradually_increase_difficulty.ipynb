{
 "cells": [
  {
   "cell_type": "markdown",
   "metadata": {},
   "source": [
    "# Gradually increase the n_sats \n",
    "> Work in progress"
   ]
  },
  {
   "cell_type": "code",
   "execution_count": 1,
   "metadata": {},
   "outputs": [],
   "source": [
    "from modules.golomb_problem import init_simple_problem, orbital_golomb_array\n",
    "# --- --- --- --- ---\n",
    "from IPython.display import display, Markdown, clear_output\n",
    "from tqdm import tqdm\n",
    "\n",
    "def show_table_of_solutions(fitness_and_solutions_list : list[tuple[float,list[float]]])-> None:\n",
    "    table_header = \"| N | Fitness | Solution      |\\n|---|---|---|\\n\"\n",
    "    for fitness_value, solution in fitness_and_solutions_list:\n",
    "        x = []\n",
    "        for x_i in solution:\n",
    "            x.append(round(x_i, 2))   # Approssimazione alla terza cifra decimale\n",
    "        table_header += f\"| {len(solution)/6} | {fitness_value:.5} | {x} |\\n\"\n",
    "\n",
    "    display(Markdown(table_header))\n",
    "\n",
    "def increase_difficulty(udp : orbital_golomb_array, n_sats_range : range, optimizer) -> list[tuple[float, list[float]]]:\n",
    "    result = []\n",
    "    for n_sats in tqdm(n_sats_range, \"Optimization on\") :\n",
    "        show_table_of_solutions(result)\n",
    "        display(Markdown(\"---\"))\n",
    "        fitness, solution = optimizer(udp, n_sats)\n",
    "\n",
    "        result.append((fitness, solution))\n",
    "        clear_output()\n",
    "    show_table_of_solutions(result)\n",
    "    return result\n",
    "# --- --- --- --- ---\n",
    "\n",
    "UDP = init_simple_problem()"
   ]
  },
  {
   "cell_type": "markdown",
   "metadata": {},
   "source": [
    "##### Template"
   ]
  },
  {
   "cell_type": "code",
   "execution_count": 2,
   "metadata": {},
   "outputs": [
    {
     "name": "stderr",
     "output_type": "stream",
     "text": [
      "Optimization on: 100%|██████████| 9/9 [00:18<00:00,  2.02s/it]\n"
     ]
    },
    {
     "data": {
      "text/markdown": [
       "| N | Fitness | Solution      |\n",
       "|---|---|---|\n",
       "| 5.0 | 0.62234 | [0.98, 0.94, 0.27, 0.86, 0.58, 0.2, 0.47, 0.38, 0.13, 0.22, 0.36, 0.45, 0.49, 0.11, 0.81, 0.46, 0.35, 0.09, 0.35, 0.35, 0.97, 0.28, 0.39, 0.6, 0.99, 0.64, 0.21, 0.41, 0.73, 0.63] |\n",
       "| 9.0 | 0.56492 | [0.35, 0.9, 0.24, 0.86, 0.74, 0.31, 0.81, 0.02, 0.43, 0.43, 0.45, 0.08, 0.23, 0.87, 0.83, 0.39, 0.67, 0.09, 0.77, 0.03, 0.82, 0.3, 0.93, 0.34, 0.84, 0.57, 0.29, 0.94, 0.29, 0.12, 0.28, 0.67, 0.88, 0.72, 0.82, 0.32, 0.34, 0.66, 0.8, 0.08, 0.95, 0.1, 0.77, 0.89, 0.75, 0.35, 0.59, 0.14, 0.07, 0.7, 0.93, 0.5, 0.07, 0.42] |\n",
       "| 13.0 | 0.86982 | [0.32, 0.56, 0.38, 0.92, 0.3, 0.98, 0.33, 0.54, 0.07, 0.2, 0.45, 0.34, 0.69, 0.84, 0.79, 0.62, 0.34, 0.06, 0.12, 0.9, 0.95, 0.25, 0.85, 0.82, 0.28, 0.21, 0.67, 0.3, 0.8, 0.68, 0.61, 0.68, 0.32, 0.81, 0.02, 0.55, 0.72, 0.92, 0.69, 0.74, 0.28, 0.33, 0.77, 0.91, 0.84, 0.24, 0.66, 0.32, 0.57, 0.4, 0.8, 0.17, 0.77, 0.56, 0.19, 0.0, 0.34, 0.95, 0.05, 0.54, 0.54, 0.4, 0.14, 0.19, 0.24, 0.64, 0.6, 0.46, 0.17, 0.02, 0.22, 0.07, 0.57, 0.89, 0.91, 0.14, 0.56, 0.96] |\n",
       "| 17.0 | 0.79576 | [0.23, 0.71, 0.45, 0.03, 0.24, 0.16, 0.87, 0.74, 0.87, 0.99, 0.47, 0.38, 0.57, 0.21, 0.13, 0.39, 0.79, 0.32, 0.1, 0.43, 0.36, 0.84, 0.58, 0.07, 0.26, 0.6, 0.72, 0.64, 0.11, 0.96, 0.52, 0.4, 0.39, 0.56, 0.13, 0.08, 0.45, 0.86, 0.98, 0.74, 0.8, 0.6, 0.67, 0.38, 0.2, 0.03, 0.73, 0.75, 0.68, 0.24, 0.61, 0.39, 0.4, 0.25, 0.33, 0.22, 0.02, 0.22, 0.16, 0.96, 0.81, 0.49, 0.36, 0.23, 0.37, 0.66, 0.67, 0.47, 0.97, 0.32, 0.03, 0.33, 0.5, 0.52, 0.17, 0.04, 0.37, 0.21, 0.58, 0.91, 0.98, 0.22, 0.61, 0.27, 0.44, 0.29, 0.62, 0.11, 0.13, 0.06, 0.36, 0.5, 0.59, 0.2, 0.91, 0.15, 0.95, 0.56, 0.98, 0.11, 0.98, 0.47] |\n",
       "| 21.0 | 0.73153 | [0.13, 0.98, 0.21, 0.74, 0.04, 0.47, 0.65, 0.94, 0.22, 0.21, 0.12, 0.97, 0.41, 0.84, 0.66, 0.21, 0.68, 0.45, 0.68, 0.47, 0.72, 0.53, 0.56, 0.06, 0.9, 0.99, 0.8, 0.06, 0.52, 0.78, 0.13, 0.92, 0.88, 0.44, 0.45, 0.38, 0.57, 0.85, 0.67, 0.47, 0.57, 0.95, 0.53, 0.87, 0.59, 0.27, 0.85, 0.41, 0.17, 0.74, 0.83, 0.62, 0.24, 1.0, 0.78, 0.75, 0.31, 0.51, 0.87, 0.41, 0.47, 0.67, 0.7, 0.36, 0.69, 0.25, 0.8, 0.99, 0.49, 0.38, 0.74, 0.99, 0.75, 0.7, 0.04, 0.97, 0.37, 0.94, 0.98, 0.73, 0.49, 0.33, 0.71, 0.83, 0.25, 0.14, 0.29, 0.76, 0.7, 0.95, 0.81, 0.42, 0.6, 0.32, 0.12, 0.02, 0.3, 0.24, 0.5, 0.4, 0.52, 0.62, 0.39, 0.23, 0.08, 0.56, 0.05, 0.9, 0.56, 0.16, 0.14, 0.4, 0.7, 0.02, 0.29, 0.3, 0.48, 0.76, 0.88, 0.85, 0.31, 0.58, 0.88, 0.33, 0.2, 0.99] |\n",
       "| 25.0 | 0.74171 | [0.77, 0.59, 0.74, 0.38, 0.96, 0.53, 0.6, 0.81, 0.23, 0.82, 0.54, 0.14, 0.47, 0.15, 0.57, 0.98, 0.75, 0.37, 0.94, 0.0, 0.75, 0.39, 0.69, 0.59, 0.53, 0.96, 0.56, 0.88, 0.42, 0.4, 0.35, 0.31, 0.16, 0.87, 0.37, 0.93, 0.44, 0.21, 0.52, 0.34, 0.43, 0.89, 0.23, 0.52, 0.32, 0.28, 0.04, 0.63, 0.47, 0.16, 0.5, 0.1, 0.78, 0.23, 0.26, 0.37, 0.52, 0.78, 0.64, 0.92, 0.75, 0.04, 0.09, 0.82, 0.17, 0.08, 0.47, 0.1, 0.78, 0.58, 0.39, 0.03, 0.56, 0.72, 0.5, 0.89, 0.69, 0.82, 0.11, 0.28, 0.09, 0.98, 0.63, 0.6, 0.99, 0.37, 0.49, 0.53, 0.84, 0.45, 0.29, 0.74, 0.72, 0.27, 0.17, 0.1, 0.88, 0.88, 0.77, 0.01, 0.99, 0.93, 0.69, 0.11, 0.59, 0.55, 0.87, 0.03, 0.5, 0.77, 0.9, 0.61, 0.48, 0.49, 0.71, 0.4, 0.38, 0.67, 0.85, 0.69, 0.4, 1.0, 0.44, 0.15, 0.69, 0.32, 0.24, 0.19, 0.16, 0.45, 0.67, 0.16, 0.06, 0.1, 0.86, 0.61, 0.75, 0.77, 0.41, 0.94, 0.72, 0.63, 0.24, 0.27, 0.13, 0.93, 0.23, 0.75, 0.59, 0.58] |\n",
       "| 29.0 | 0.47944 | [0.38, 0.56, 0.15, 0.72, 0.31, 0.2, 0.64, 0.89, 0.48, 0.97, 0.55, 0.24, 0.84, 0.86, 0.1, 0.06, 0.5, 0.23, 0.3, 0.15, 0.81, 0.81, 0.83, 0.29, 0.6, 0.96, 0.53, 0.93, 0.45, 0.65, 0.03, 0.11, 0.16, 0.96, 0.47, 0.35, 0.78, 0.6, 0.51, 0.32, 0.63, 0.93, 0.84, 0.15, 0.91, 0.95, 0.55, 0.35, 0.97, 0.94, 0.06, 0.64, 0.62, 0.45, 0.13, 0.86, 0.34, 0.46, 0.83, 0.5, 0.95, 0.9, 0.75, 0.08, 0.78, 0.06, 0.65, 0.23, 0.78, 0.94, 0.71, 0.88, 0.03, 0.81, 0.02, 0.86, 0.19, 0.54, 0.65, 0.2, 0.04, 0.72, 0.12, 0.33, 0.24, 0.01, 0.55, 0.51, 0.58, 0.43, 0.2, 0.46, 0.62, 0.76, 0.06, 0.17, 0.25, 0.37, 0.06, 0.02, 0.9, 0.34, 0.19, 0.4, 0.1, 0.73, 0.83, 0.08, 0.58, 0.57, 0.16, 0.81, 0.69, 0.81, 0.72, 0.61, 0.47, 0.5, 0.09, 0.87, 0.43, 0.73, 0.55, 0.65, 0.92, 0.41, 0.66, 0.72, 0.15, 0.59, 0.95, 0.94, 0.91, 0.09, 0.75, 1.0, 0.74, 0.82, 0.59, 0.15, 0.74, 0.48, 0.39, 0.37, 0.29, 0.21, 0.69, 0.44, 0.72, 0.07, 0.27, 0.69, 0.28, 0.47, 0.78, 0.52, 0.97, 0.06, 0.52, 0.39, 0.71, 0.33, 0.1, 0.51, 0.32, 0.72, 0.04, 0.36, 0.39, 0.33, 0.8, 0.34, 0.02, 0.73] |\n",
       "| 33.0 | 0.14617 | [0.8, 0.65, 0.75, 0.66, 0.27, 0.64, 0.92, 0.94, 0.65, 0.0, 0.21, 0.19, 0.12, 0.56, 0.51, 0.64, 0.13, 0.74, 0.36, 0.24, 0.38, 0.38, 0.31, 0.63, 0.87, 0.91, 0.11, 0.09, 0.45, 0.02, 0.74, 0.93, 0.51, 0.32, 0.19, 0.37, 0.94, 0.51, 0.63, 0.85, 0.55, 0.04, 0.29, 0.2, 0.91, 0.11, 0.47, 0.21, 0.45, 0.68, 0.15, 0.64, 0.16, 0.9, 0.88, 0.43, 0.62, 0.17, 0.81, 0.17, 0.93, 0.82, 0.73, 0.56, 0.07, 0.09, 0.12, 0.85, 0.34, 0.27, 0.35, 0.22, 0.81, 0.69, 0.07, 0.69, 0.91, 0.57, 0.76, 0.69, 0.1, 0.94, 0.93, 0.43, 0.73, 0.43, 0.19, 0.36, 0.88, 0.41, 0.11, 0.99, 0.63, 0.19, 0.93, 0.93, 0.42, 0.18, 0.31, 0.15, 0.97, 0.6, 0.5, 0.86, 0.91, 0.34, 0.95, 0.35, 0.89, 0.9, 0.86, 0.88, 0.64, 0.14, 0.32, 0.55, 0.07, 0.9, 0.91, 0.11, 0.52, 0.74, 0.96, 0.66, 0.46, 0.22, 0.09, 0.0, 0.27, 0.45, 0.43, 0.55, 0.55, 0.65, 0.52, 0.19, 0.93, 0.24, 0.55, 0.57, 0.02, 0.05, 0.54, 0.99, 0.71, 1.0, 0.42, 0.67, 0.8, 0.54, 0.44, 0.16, 0.9, 0.11, 0.13, 0.56, 0.79, 0.06, 0.87, 0.6, 0.86, 0.84, 0.23, 0.57, 0.87, 0.98, 0.58, 0.75, 0.81, 0.32, 0.55, 1.0, 0.05, 0.38, 0.28, 0.94, 0.89, 0.79, 0.92, 0.39, 0.22, 0.74, 0.25, 0.84, 0.57, 0.75, 0.18, 0.29, 0.84, 0.48, 0.15, 0.31, 0.68, 0.42, 0.23, 0.18, 0.23, 0.63] |\n",
       "| 37.0 | 0.56493 | [0.14, 0.91, 0.58, 0.9, 0.09, 0.66, 0.95, 0.72, 0.48, 0.59, 0.3, 0.39, 0.41, 0.2, 0.71, 0.02, 0.14, 0.67, 0.95, 0.46, 0.45, 0.85, 0.01, 0.21, 0.65, 0.24, 0.98, 0.44, 0.67, 0.53, 0.35, 0.41, 0.88, 0.89, 0.54, 0.11, 0.78, 0.97, 0.33, 0.96, 0.35, 0.74, 0.39, 0.3, 0.82, 0.3, 0.77, 0.39, 0.65, 0.53, 0.98, 0.55, 0.67, 0.34, 0.5, 0.27, 0.27, 0.88, 0.95, 0.25, 0.2, 0.02, 0.29, 0.97, 0.99, 0.82, 0.87, 0.23, 0.15, 0.84, 0.28, 0.79, 0.22, 0.44, 0.19, 0.02, 0.36, 0.44, 0.74, 0.88, 0.02, 0.12, 0.53, 0.32, 0.71, 0.53, 0.02, 0.01, 0.51, 0.86, 0.78, 0.56, 0.94, 0.18, 0.7, 0.78, 0.32, 0.15, 0.06, 0.92, 0.78, 0.28, 0.56, 0.87, 0.7, 0.6, 0.52, 0.17, 0.87, 0.54, 0.06, 0.34, 0.86, 0.17, 0.16, 0.53, 0.05, 0.72, 0.59, 0.65, 0.9, 0.39, 0.85, 0.34, 0.68, 0.14, 0.26, 0.93, 0.1, 0.17, 0.83, 0.76, 0.41, 0.45, 0.8, 0.49, 0.65, 0.23, 0.81, 0.42, 0.36, 0.84, 0.85, 0.12, 0.29, 0.19, 0.25, 0.69, 0.12, 0.88, 0.5, 0.22, 0.52, 0.81, 0.44, 0.36, 0.91, 0.72, 0.6, 0.97, 0.87, 0.19, 0.73, 0.55, 0.03, 0.46, 0.15, 0.9, 0.46, 0.92, 0.61, 0.82, 0.14, 0.92, 0.79, 1.0, 0.0, 0.39, 0.81, 0.88, 0.15, 0.42, 0.31, 0.23, 0.08, 0.97, 0.74, 0.42, 0.23, 0.73, 0.47, 0.8, 0.77, 0.21, 0.28, 0.7, 0.68, 0.62, 0.73, 0.28, 0.56, 0.09, 0.39, 0.39, 0.35, 0.14, 0.79, 0.75, 0.11, 0.64, 0.22, 0.64, 0.18, 0.39, 0.39, 0.07, 0.35, 0.39, 0.0, 0.42, 0.95, 0.47] |\n"
      ],
      "text/plain": [
       "<IPython.core.display.Markdown object>"
      ]
     },
     "metadata": {},
     "output_type": "display_data"
    }
   ],
   "source": [
    "import time\n",
    "import random\n",
    "\n",
    "udp = UDP,\n",
    "n_sats_range = range(5,40,4)\n",
    "\n",
    "def optimizer(udp : orbital_golomb_array, sats : int) -> tuple[float, list[float]] :\n",
    "    print(\"among goose\")\n",
    "    time.sleep(2)\n",
    "    \n",
    "    return (random.random(), [random.random() for i in range(0,sats*6)])\n",
    "\n",
    "ret = increase_difficulty(udp,n_sats_range,optimizer)\n",
    "del ret"
   ]
  },
  {
   "cell_type": "markdown",
   "metadata": {},
   "source": [
    "## Non-Dominated Sorting Genetic Algorithm"
   ]
  },
  {
   "cell_type": "code",
   "execution_count": 10,
   "metadata": {},
   "outputs": [
    {
     "name": "stderr",
     "output_type": "stream",
     "text": [
      "\rOptimization Progress:  14%|█▍        | 1/7 [00:55<05:35, 55.92s/it]"
     ]
    },
    {
     "data": {
      "text/markdown": [
       "### Ottimizzazione per 10 satelliti..."
      ],
      "text/plain": [
       "<IPython.core.display.Markdown object>"
      ]
     },
     "metadata": {},
     "output_type": "display_data"
    },
    {
     "data": {
      "text/markdown": [
       "| N | Fitness | Solution      |\n",
       "|---|---|---|\n",
       "| 5 | -0.13832 | [-0.18, 0.16, 0.04, 0.19, -0.18, 0.4, 0.33, -0.49, 0.37, -0.05, -0.14, -0.15, 0.49, -0.49, -0.5, -0.16, -0.06, -0.35, 0.5, 0.49, -0.49, 0.36, 0.12, 0.44, -0.43, 0.5, -0.5, 0.44, -0.49, 0.29] |\n"
      ],
      "text/plain": [
       "<IPython.core.display.Markdown object>"
      ]
     },
     "metadata": {},
     "output_type": "display_data"
    },
    {
     "name": "stderr",
     "output_type": "stream",
     "text": [
      "Optimization Progress:  14%|█▍        | 1/7 [01:15<07:33, 75.61s/it]\n"
     ]
    },
    {
     "ename": "KeyboardInterrupt",
     "evalue": "",
     "output_type": "error",
     "traceback": [
      "\u001b[0;31m---------------------------------------------------------------------------\u001b[0m",
      "\u001b[0;31mKeyboardInterrupt\u001b[0m                         Traceback (most recent call last)",
      "Cell \u001b[0;32mIn[10], line 66\u001b[0m\n\u001b[1;32m     63\u001b[0m n_sats_range \u001b[38;5;241m=\u001b[39m \u001b[38;5;28mrange\u001b[39m(\u001b[38;5;241m5\u001b[39m, \u001b[38;5;241m40\u001b[39m, \u001b[38;5;241m5\u001b[39m)  \u001b[38;5;66;03m# Incremento di difficoltà: 5 -> 10 -> ... -> 35\u001b[39;00m\n\u001b[1;32m     65\u001b[0m \u001b[38;5;66;03m# Esegui l'ottimizzazione dinamica\u001b[39;00m\n\u001b[0;32m---> 66\u001b[0m ret \u001b[38;5;241m=\u001b[39m \u001b[43mincrease_difficulty\u001b[49m\u001b[43m(\u001b[49m\u001b[43mUDP\u001b[49m\u001b[43m,\u001b[49m\u001b[43m \u001b[49m\u001b[43mn_sats_range\u001b[49m\u001b[43m,\u001b[49m\u001b[43m \u001b[49m\u001b[43mnsga2_optimizer\u001b[49m\u001b[43m)\u001b[49m\n\u001b[1;32m     67\u001b[0m \u001b[38;5;28;01mdel\u001b[39;00m ret\n",
      "Cell \u001b[0;32mIn[7], line 77\u001b[0m, in \u001b[0;36mincrease_difficulty\u001b[0;34m(udp, n_sats_range, optimizer)\u001b[0m\n\u001b[1;32m     74\u001b[0m show_table_of_solutions(result)\n\u001b[1;32m     76\u001b[0m \u001b[38;5;66;03m# Esegui l'ottimizzatore\u001b[39;00m\n\u001b[0;32m---> 77\u001b[0m fitness, solution \u001b[38;5;241m=\u001b[39m \u001b[43moptimizer\u001b[49m\u001b[43m(\u001b[49m\u001b[43mudp\u001b[49m\u001b[43m,\u001b[49m\u001b[43m \u001b[49m\u001b[43mn_sats\u001b[49m\u001b[43m)\u001b[49m\n\u001b[1;32m     78\u001b[0m result\u001b[38;5;241m.\u001b[39mappend((fitness, solution))\n\u001b[1;32m     80\u001b[0m \u001b[38;5;66;03m# Aggiorna dinamicamente i risultati\u001b[39;00m\n",
      "Cell \u001b[0;32mIn[10], line 45\u001b[0m, in \u001b[0;36mnsga2_optimizer\u001b[0;34m(udp, n_sats)\u001b[0m\n\u001b[1;32m     43\u001b[0m algorithm \u001b[38;5;241m=\u001b[39m pg\u001b[38;5;241m.\u001b[39malgorithm(pg\u001b[38;5;241m.\u001b[39mnsga2(gen\u001b[38;5;241m=\u001b[39m\u001b[38;5;241m100\u001b[39m))  \u001b[38;5;66;03m# 100 generazioni di default\u001b[39;00m\n\u001b[1;32m     44\u001b[0m population \u001b[38;5;241m=\u001b[39m pg\u001b[38;5;241m.\u001b[39mpopulation(problem, size\u001b[38;5;241m=\u001b[39m\u001b[38;5;241m300\u001b[39m)  \u001b[38;5;66;03m# Popolazione iniziale\u001b[39;00m\n\u001b[0;32m---> 45\u001b[0m population \u001b[38;5;241m=\u001b[39m \u001b[43malgorithm\u001b[49m\u001b[38;5;241;43m.\u001b[39;49m\u001b[43mevolve\u001b[49m\u001b[43m(\u001b[49m\u001b[43mpopulation\u001b[49m\u001b[43m)\u001b[49m\n\u001b[1;32m     47\u001b[0m \u001b[38;5;66;03m# Estrai il fronte di Pareto\u001b[39;00m\n\u001b[1;32m     48\u001b[0m pareto_fitness \u001b[38;5;241m=\u001b[39m population\u001b[38;5;241m.\u001b[39mget_f()\n",
      "Cell \u001b[0;32mIn[10], line 26\u001b[0m, in \u001b[0;36mGolombOptimization.fitness\u001b[0;34m(self, x)\u001b[0m\n\u001b[1;32m     20\u001b[0m \u001b[38;5;28;01mdef\u001b[39;00m \u001b[38;5;21mfitness\u001b[39m(\u001b[38;5;28mself\u001b[39m, x):\n\u001b[1;32m     21\u001b[0m \u001b[38;5;250m    \u001b[39m\u001b[38;5;124;03m\"\"\"\u001b[39;00m\n\u001b[1;32m     22\u001b[0m \u001b[38;5;124;03m    Calcola le funzioni obiettivo:\u001b[39;00m\n\u001b[1;32m     23\u001b[0m \u001b[38;5;124;03m    - f1: Fitness originale del problema.\u001b[39;00m\n\u001b[1;32m     24\u001b[0m \u001b[38;5;124;03m    - f2: Varianza negativa delle posizioni.\u001b[39;00m\n\u001b[1;32m     25\u001b[0m \u001b[38;5;124;03m    \"\"\"\u001b[39;00m\n\u001b[0;32m---> 26\u001b[0m     f1 \u001b[38;5;241m=\u001b[39m \u001b[38;5;28;43mself\u001b[39;49m\u001b[38;5;241;43m.\u001b[39;49m\u001b[43mudp\u001b[49m\u001b[38;5;241;43m.\u001b[39;49m\u001b[43mfitness\u001b[49m\u001b[43m(\u001b[49m\u001b[43mx\u001b[49m\u001b[43m)\u001b[49m[\u001b[38;5;241m0\u001b[39m]  \u001b[38;5;66;03m# Fitness originale\u001b[39;00m\n\u001b[1;32m     27\u001b[0m     positions \u001b[38;5;241m=\u001b[39m np\u001b[38;5;241m.\u001b[39marray(x)\u001b[38;5;241m.\u001b[39mreshape(\u001b[38;5;241m-\u001b[39m\u001b[38;5;241m1\u001b[39m, \u001b[38;5;241m6\u001b[39m)[:, :\u001b[38;5;241m3\u001b[39m]  \u001b[38;5;66;03m# Estrarre posizioni XYZ\u001b[39;00m\n\u001b[1;32m     28\u001b[0m     f2 \u001b[38;5;241m=\u001b[39m \u001b[38;5;241m-\u001b[39mnp\u001b[38;5;241m.\u001b[39mvar(positions)  \u001b[38;5;66;03m# Varianza negativa delle posizioni\u001b[39;00m\n",
      "File \u001b[0;32m~/ESA_Interferometric_Mission/code/modules/golomb_problem.py:186\u001b[0m, in \u001b[0;36morbital_golomb_array.fitness\u001b[0;34m(self, x)\u001b[0m\n\u001b[1;32m    185\u001b[0m \u001b[38;5;28;01mdef\u001b[39;00m \u001b[38;5;21mfitness\u001b[39m(\u001b[38;5;28mself\u001b[39m, x):\n\u001b[0;32m--> 186\u001b[0m     \u001b[38;5;28;01mreturn\u001b[39;00m \u001b[38;5;28;43mself\u001b[39;49m\u001b[38;5;241;43m.\u001b[39;49m\u001b[43mfitness_impl\u001b[49m\u001b[43m(\u001b[49m\u001b[43mx\u001b[49m\u001b[43m)\u001b[49m\n",
      "File \u001b[0;32m~/ESA_Interferometric_Mission/code/modules/golomb_problem.py:410\u001b[0m, in \u001b[0;36morbital_golomb_array.fitness_impl\u001b[0;34m(self, x, plotting, figsize, return_all_n_meas_fillfactor, reduce_fill_if_not_optimal, limit_distance)\u001b[0m\n\u001b[1;32m    408\u001b[0m xzC \u001b[38;5;241m=\u001b[39m scipy\u001b[38;5;241m.\u001b[39msignal\u001b[38;5;241m.\u001b[39mcorrelate(xz, xz, mode\u001b[38;5;241m=\u001b[39m\u001b[38;5;124m\"\u001b[39m\u001b[38;5;124mfull\u001b[39m\u001b[38;5;124m\"\u001b[39m)\n\u001b[1;32m    409\u001b[0m yzC \u001b[38;5;241m=\u001b[39m scipy\u001b[38;5;241m.\u001b[39msignal\u001b[38;5;241m.\u001b[39mcorrelate(yz, yz, mode\u001b[38;5;241m=\u001b[39m\u001b[38;5;124m\"\u001b[39m\u001b[38;5;124mfull\u001b[39m\u001b[38;5;124m\"\u001b[39m)\n\u001b[0;32m--> 410\u001b[0m xyC[\u001b[38;5;28;43mabs\u001b[39;49m\u001b[43m(\u001b[49m\u001b[43mxyC\u001b[49m\u001b[43m \u001b[49m\u001b[38;5;241;43m<\u001b[39;49m\u001b[43m \u001b[49m\u001b[38;5;241;43m1e-8\u001b[39;49m\u001b[43m)\u001b[49m] \u001b[38;5;241m=\u001b[39m \u001b[38;5;241m0\u001b[39m\n\u001b[1;32m    411\u001b[0m xzC[\u001b[38;5;28mabs\u001b[39m(xzC \u001b[38;5;241m<\u001b[39m \u001b[38;5;241m1e-8\u001b[39m)] \u001b[38;5;241m=\u001b[39m \u001b[38;5;241m0\u001b[39m\n\u001b[1;32m    412\u001b[0m yzC[\u001b[38;5;28mabs\u001b[39m(yzC \u001b[38;5;241m<\u001b[39m \u001b[38;5;241m1e-8\u001b[39m)] \u001b[38;5;241m=\u001b[39m \u001b[38;5;241m0\u001b[39m\n",
      "\u001b[0;31mKeyboardInterrupt\u001b[0m: "
     ]
    }
   ],
   "source": [
    "import numpy as np\n",
    "import pygmo as pg\n",
    "from modules.golomb_problem import init_simple_problem, orbital_golomb_array\n",
    "#from modules.plotter import print_result\n",
    "\n",
    "\n",
    "# Classe del problema per NSGA-II\n",
    "class GolombOptimization:\n",
    "    def __init__(self, udp, n_sat):\n",
    "        \"\"\"\n",
    "        Classe che rappresenta il problema multi-obiettivo.\n",
    "        udp: il problema originale esistente.\n",
    "        n_sat: numero di satelliti.\n",
    "        \"\"\"\n",
    "        self.udp = udp\n",
    "        self.n_var = n_sat * 6  # Numero di variabili\n",
    "        self.n_obj = 2  # Obiettivi multipli\n",
    "        self.bounds = ([-0.5] * self.n_var, [0.5] * self.n_var)\n",
    "\n",
    "    def fitness(self, x):\n",
    "        \"\"\"\n",
    "        Calcola le funzioni obiettivo:\n",
    "        - f1: Fitness originale del problema.\n",
    "        - f2: Varianza negativa delle posizioni.\n",
    "        \"\"\"\n",
    "        f1 = self.udp.fitness(x)[0]  # Fitness originale\n",
    "        positions = np.array(x).reshape(-1, 6)[:, :3]  # Estrarre posizioni XYZ\n",
    "        f2 = -np.var(positions)  # Varianza negativa delle posizioni\n",
    "        return [f1, f2]\n",
    "\n",
    "    def get_bounds(self):\n",
    "        return self.bounds\n",
    "\n",
    "    def get_nobj(self):\n",
    "        return self.n_obj\n",
    "\n",
    "# Ottimizzatore basato su NSGA-II\n",
    "def nsga2_optimizer(udp: orbital_golomb_array, n_sats: int) -> tuple[float, list[float]]:\n",
    "    \"\"\"\n",
    "    Configura ed esegue l'ottimizzazione NSGA-II per il numero dato di satelliti.\n",
    "    \"\"\"\n",
    "    problem = pg.problem(GolombOptimization(udp, n_sats))\n",
    "    algorithm = pg.algorithm(pg.nsga2(gen=100))  # 100 generazioni di default\n",
    "    population = pg.population(problem, size=300)  # Popolazione iniziale\n",
    "    population = algorithm.evolve(population)\n",
    "\n",
    "    # Estrai il fronte di Pareto\n",
    "    pareto_fitness = population.get_f()\n",
    "    pareto_vectors = population.get_x()\n",
    "\n",
    "    # Seleziona la soluzione migliore rispetto al primo obiettivo\n",
    "    best_idx = np.argmin(pareto_fitness[:, 0])\n",
    "    best_solution = pareto_vectors[best_idx]\n",
    "    best_fitness = pareto_fitness[best_idx][0]\n",
    "    #print_result(udp, best_solution, 300, show_simulated_reconstruction=True)\n",
    "    return best_fitness, best_solution\n",
    "\n",
    "\n",
    "# Esecuzione principale\n",
    "if __name__ == \"__main__\":\n",
    "    UDP = init_simple_problem()  # Inizializza il problema\n",
    "    \n",
    "    n_sats_range = range(5, 40, 5)  # Incremento di difficoltà: 5 -> 10 -> ... -> 35\n",
    "\n",
    "    # Esegui l'ottimizzazione dinamica\n",
    "    ret = increase_difficulty(UDP, n_sats_range, nsga2_optimizer)\n",
    "    del ret\n",
    "\n"
   ]
  },
  {
   "cell_type": "markdown",
   "metadata": {},
   "source": [
    "## Grey Wolf"
   ]
  },
  {
   "cell_type": "code",
   "execution_count": null,
   "metadata": {},
   "outputs": [],
   "source": []
  },
  {
   "cell_type": "markdown",
   "metadata": {},
   "source": [
    "## Differencial Evolution"
   ]
  },
  {
   "cell_type": "code",
   "execution_count": null,
   "metadata": {},
   "outputs": [],
   "source": []
  }
 ],
 "metadata": {
  "kernelspec": {
   "display_name": "Python 3",
   "language": "python",
   "name": "python3"
  },
  "language_info": {
   "codemirror_mode": {
    "name": "ipython",
    "version": 3
   },
   "file_extension": ".py",
   "mimetype": "text/x-python",
   "name": "python",
   "nbconvert_exporter": "python",
   "pygments_lexer": "ipython3",
   "version": "3.10.15"
  }
 },
 "nbformat": 4,
 "nbformat_minor": 2
}
