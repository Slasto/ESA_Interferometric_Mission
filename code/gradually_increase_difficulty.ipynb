{
 "cells": [
  {
   "cell_type": "markdown",
   "metadata": {},
   "source": [
    "# Gradually increase the n_sats \n",
    "> Work in progress"
   ]
  },
  {
   "cell_type": "code",
   "execution_count": 42,
   "metadata": {},
   "outputs": [],
   "source": [
    "from modules.golomb_problem import init_simple_problem, orbital_golomb_array\n",
    "from modules.gradually_increase_difficulty import increase_difficulty"
   ]
  },
  {
   "cell_type": "markdown",
   "metadata": {},
   "source": [
    "##### Template"
   ]
  },
  {
   "cell_type": "code",
   "execution_count": 45,
   "metadata": {},
   "outputs": [
    {
     "name": "stderr",
     "output_type": "stream",
     "text": [
      "Optimization on: 100%|██████████| 7/7 [00:14<00:00,  2.02s/it]\n"
     ]
    },
    {
     "data": {
      "text/markdown": [
       "| N_sats | Fitness | Diverse Distances [%] | Satellites in Grid [%] | \n",
       "|---|---|---|---|\n",
       "| 5 | 0.3273 | 0.1000 | 0.4667 |\n",
       "| 10 | 0.6530 | 0.0370 | 0.1667 |\n",
       "| 15 | 0.4168 | 0.0116 | 0.1333 |\n",
       "| 20 | 0.2539 | 0.0094 | 0.1000 |\n",
       "| 25 | 0.6928 | 0.0056 | 0.0667 |\n",
       "| 30 | 0.5648 | 0.0026 | 0.0556 |\n",
       "| 35 | 0.9983 | 0.0028 | 0.0476 |\n"
      ],
      "text/plain": [
       "<IPython.core.display.Markdown object>"
      ]
     },
     "metadata": {},
     "output_type": "display_data"
    }
   ],
   "source": [
    "import time\n",
    "import random\n",
    "\n",
    "UDP = init_simple_problem()\n",
    "n_sats_range = range(5, 40, 5)\n",
    "\n",
    "\n",
    "def optimizer(UDP, sats: int) -> tuple[float, list[float]]:\n",
    "    print(\"amongoose\")\n",
    "    print(\"n_sats = \", sats)\n",
    "    time.sleep(2)\n",
    "\n",
    "    return (random.random(), [random.random() for i in range(0, sats * 6)])\n",
    "\n",
    "\n",
    "ret = increase_difficulty(UDP, n_sats_range, optimizer, file_name=None)\n",
    "del ret"
   ]
  },
  {
   "cell_type": "markdown",
   "metadata": {},
   "source": [
    "## Non-Dominated Sorting Genetic Algorithm"
   ]
  },
  {
   "cell_type": "code",
   "execution_count": 10,
   "metadata": {},
   "outputs": [
    {
     "name": "stderr",
     "output_type": "stream",
     "text": [
      "\rOptimization Progress:  14%|█▍        | 1/7 [00:55<05:35, 55.92s/it]"
     ]
    },
    {
     "data": {
      "text/markdown": [
       "### Ottimizzazione per 10 satelliti..."
      ],
      "text/plain": [
       "<IPython.core.display.Markdown object>"
      ]
     },
     "metadata": {},
     "output_type": "display_data"
    },
    {
     "data": {
      "text/markdown": [
       "| N | Fitness | Solution      |\n",
       "|---|---|---|\n",
       "| 5 | -0.13832 | [-0.18, 0.16, 0.04, 0.19, -0.18, 0.4, 0.33, -0.49, 0.37, -0.05, -0.14, -0.15, 0.49, -0.49, -0.5, -0.16, -0.06, -0.35, 0.5, 0.49, -0.49, 0.36, 0.12, 0.44, -0.43, 0.5, -0.5, 0.44, -0.49, 0.29] |\n"
      ],
      "text/plain": [
       "<IPython.core.display.Markdown object>"
      ]
     },
     "metadata": {},
     "output_type": "display_data"
    },
    {
     "name": "stderr",
     "output_type": "stream",
     "text": [
      "Optimization Progress:  14%|█▍        | 1/7 [01:15<07:33, 75.61s/it]\n"
     ]
    },
    {
     "ename": "KeyboardInterrupt",
     "evalue": "",
     "output_type": "error",
     "traceback": [
      "\u001b[0;31m---------------------------------------------------------------------------\u001b[0m",
      "\u001b[0;31mKeyboardInterrupt\u001b[0m                         Traceback (most recent call last)",
      "Cell \u001b[0;32mIn[10], line 66\u001b[0m\n\u001b[1;32m     63\u001b[0m n_sats_range \u001b[38;5;241m=\u001b[39m \u001b[38;5;28mrange\u001b[39m(\u001b[38;5;241m5\u001b[39m, \u001b[38;5;241m40\u001b[39m, \u001b[38;5;241m5\u001b[39m)  \u001b[38;5;66;03m# Incremento di difficoltà: 5 -> 10 -> ... -> 35\u001b[39;00m\n\u001b[1;32m     65\u001b[0m \u001b[38;5;66;03m# Esegui l'ottimizzazione dinamica\u001b[39;00m\n\u001b[0;32m---> 66\u001b[0m ret \u001b[38;5;241m=\u001b[39m \u001b[43mincrease_difficulty\u001b[49m\u001b[43m(\u001b[49m\u001b[43mUDP\u001b[49m\u001b[43m,\u001b[49m\u001b[43m \u001b[49m\u001b[43mn_sats_range\u001b[49m\u001b[43m,\u001b[49m\u001b[43m \u001b[49m\u001b[43mnsga2_optimizer\u001b[49m\u001b[43m)\u001b[49m\n\u001b[1;32m     67\u001b[0m \u001b[38;5;28;01mdel\u001b[39;00m ret\n",
      "Cell \u001b[0;32mIn[7], line 77\u001b[0m, in \u001b[0;36mincrease_difficulty\u001b[0;34m(udp, n_sats_range, optimizer)\u001b[0m\n\u001b[1;32m     74\u001b[0m show_table_of_solutions(result)\n\u001b[1;32m     76\u001b[0m \u001b[38;5;66;03m# Esegui l'ottimizzatore\u001b[39;00m\n\u001b[0;32m---> 77\u001b[0m fitness, solution \u001b[38;5;241m=\u001b[39m \u001b[43moptimizer\u001b[49m\u001b[43m(\u001b[49m\u001b[43mudp\u001b[49m\u001b[43m,\u001b[49m\u001b[43m \u001b[49m\u001b[43mn_sats\u001b[49m\u001b[43m)\u001b[49m\n\u001b[1;32m     78\u001b[0m result\u001b[38;5;241m.\u001b[39mappend((fitness, solution))\n\u001b[1;32m     80\u001b[0m \u001b[38;5;66;03m# Aggiorna dinamicamente i risultati\u001b[39;00m\n",
      "Cell \u001b[0;32mIn[10], line 45\u001b[0m, in \u001b[0;36mnsga2_optimizer\u001b[0;34m(udp, n_sats)\u001b[0m\n\u001b[1;32m     43\u001b[0m algorithm \u001b[38;5;241m=\u001b[39m pg\u001b[38;5;241m.\u001b[39malgorithm(pg\u001b[38;5;241m.\u001b[39mnsga2(gen\u001b[38;5;241m=\u001b[39m\u001b[38;5;241m100\u001b[39m))  \u001b[38;5;66;03m# 100 generazioni di default\u001b[39;00m\n\u001b[1;32m     44\u001b[0m population \u001b[38;5;241m=\u001b[39m pg\u001b[38;5;241m.\u001b[39mpopulation(problem, size\u001b[38;5;241m=\u001b[39m\u001b[38;5;241m300\u001b[39m)  \u001b[38;5;66;03m# Popolazione iniziale\u001b[39;00m\n\u001b[0;32m---> 45\u001b[0m population \u001b[38;5;241m=\u001b[39m \u001b[43malgorithm\u001b[49m\u001b[38;5;241;43m.\u001b[39;49m\u001b[43mevolve\u001b[49m\u001b[43m(\u001b[49m\u001b[43mpopulation\u001b[49m\u001b[43m)\u001b[49m\n\u001b[1;32m     47\u001b[0m \u001b[38;5;66;03m# Estrai il fronte di Pareto\u001b[39;00m\n\u001b[1;32m     48\u001b[0m pareto_fitness \u001b[38;5;241m=\u001b[39m population\u001b[38;5;241m.\u001b[39mget_f()\n",
      "Cell \u001b[0;32mIn[10], line 26\u001b[0m, in \u001b[0;36mGolombOptimization.fitness\u001b[0;34m(self, x)\u001b[0m\n\u001b[1;32m     20\u001b[0m \u001b[38;5;28;01mdef\u001b[39;00m \u001b[38;5;21mfitness\u001b[39m(\u001b[38;5;28mself\u001b[39m, x):\n\u001b[1;32m     21\u001b[0m \u001b[38;5;250m    \u001b[39m\u001b[38;5;124;03m\"\"\"\u001b[39;00m\n\u001b[1;32m     22\u001b[0m \u001b[38;5;124;03m    Calcola le funzioni obiettivo:\u001b[39;00m\n\u001b[1;32m     23\u001b[0m \u001b[38;5;124;03m    - f1: Fitness originale del problema.\u001b[39;00m\n\u001b[1;32m     24\u001b[0m \u001b[38;5;124;03m    - f2: Varianza negativa delle posizioni.\u001b[39;00m\n\u001b[1;32m     25\u001b[0m \u001b[38;5;124;03m    \"\"\"\u001b[39;00m\n\u001b[0;32m---> 26\u001b[0m     f1 \u001b[38;5;241m=\u001b[39m \u001b[38;5;28;43mself\u001b[39;49m\u001b[38;5;241;43m.\u001b[39;49m\u001b[43mudp\u001b[49m\u001b[38;5;241;43m.\u001b[39;49m\u001b[43mfitness\u001b[49m\u001b[43m(\u001b[49m\u001b[43mx\u001b[49m\u001b[43m)\u001b[49m[\u001b[38;5;241m0\u001b[39m]  \u001b[38;5;66;03m# Fitness originale\u001b[39;00m\n\u001b[1;32m     27\u001b[0m     positions \u001b[38;5;241m=\u001b[39m np\u001b[38;5;241m.\u001b[39marray(x)\u001b[38;5;241m.\u001b[39mreshape(\u001b[38;5;241m-\u001b[39m\u001b[38;5;241m1\u001b[39m, \u001b[38;5;241m6\u001b[39m)[:, :\u001b[38;5;241m3\u001b[39m]  \u001b[38;5;66;03m# Estrarre posizioni XYZ\u001b[39;00m\n\u001b[1;32m     28\u001b[0m     f2 \u001b[38;5;241m=\u001b[39m \u001b[38;5;241m-\u001b[39mnp\u001b[38;5;241m.\u001b[39mvar(positions)  \u001b[38;5;66;03m# Varianza negativa delle posizioni\u001b[39;00m\n",
      "File \u001b[0;32m~/ESA_Interferometric_Mission/code/modules/golomb_problem.py:186\u001b[0m, in \u001b[0;36morbital_golomb_array.fitness\u001b[0;34m(self, x)\u001b[0m\n\u001b[1;32m    185\u001b[0m \u001b[38;5;28;01mdef\u001b[39;00m \u001b[38;5;21mfitness\u001b[39m(\u001b[38;5;28mself\u001b[39m, x):\n\u001b[0;32m--> 186\u001b[0m     \u001b[38;5;28;01mreturn\u001b[39;00m \u001b[38;5;28;43mself\u001b[39;49m\u001b[38;5;241;43m.\u001b[39;49m\u001b[43mfitness_impl\u001b[49m\u001b[43m(\u001b[49m\u001b[43mx\u001b[49m\u001b[43m)\u001b[49m\n",
      "File \u001b[0;32m~/ESA_Interferometric_Mission/code/modules/golomb_problem.py:410\u001b[0m, in \u001b[0;36morbital_golomb_array.fitness_impl\u001b[0;34m(self, x, plotting, figsize, return_all_n_meas_fillfactor, reduce_fill_if_not_optimal, limit_distance)\u001b[0m\n\u001b[1;32m    408\u001b[0m xzC \u001b[38;5;241m=\u001b[39m scipy\u001b[38;5;241m.\u001b[39msignal\u001b[38;5;241m.\u001b[39mcorrelate(xz, xz, mode\u001b[38;5;241m=\u001b[39m\u001b[38;5;124m\"\u001b[39m\u001b[38;5;124mfull\u001b[39m\u001b[38;5;124m\"\u001b[39m)\n\u001b[1;32m    409\u001b[0m yzC \u001b[38;5;241m=\u001b[39m scipy\u001b[38;5;241m.\u001b[39msignal\u001b[38;5;241m.\u001b[39mcorrelate(yz, yz, mode\u001b[38;5;241m=\u001b[39m\u001b[38;5;124m\"\u001b[39m\u001b[38;5;124mfull\u001b[39m\u001b[38;5;124m\"\u001b[39m)\n\u001b[0;32m--> 410\u001b[0m xyC[\u001b[38;5;28;43mabs\u001b[39;49m\u001b[43m(\u001b[49m\u001b[43mxyC\u001b[49m\u001b[43m \u001b[49m\u001b[38;5;241;43m<\u001b[39;49m\u001b[43m \u001b[49m\u001b[38;5;241;43m1e-8\u001b[39;49m\u001b[43m)\u001b[49m] \u001b[38;5;241m=\u001b[39m \u001b[38;5;241m0\u001b[39m\n\u001b[1;32m    411\u001b[0m xzC[\u001b[38;5;28mabs\u001b[39m(xzC \u001b[38;5;241m<\u001b[39m \u001b[38;5;241m1e-8\u001b[39m)] \u001b[38;5;241m=\u001b[39m \u001b[38;5;241m0\u001b[39m\n\u001b[1;32m    412\u001b[0m yzC[\u001b[38;5;28mabs\u001b[39m(yzC \u001b[38;5;241m<\u001b[39m \u001b[38;5;241m1e-8\u001b[39m)] \u001b[38;5;241m=\u001b[39m \u001b[38;5;241m0\u001b[39m\n",
      "\u001b[0;31mKeyboardInterrupt\u001b[0m: "
     ]
    }
   ],
   "source": [
    "import numpy as np\n",
    "import pygmo as pg\n",
    "from modules.golomb_problem import init_simple_problem, orbital_golomb_array\n",
    "#from modules.plotter import print_result\n",
    "\n",
    "\n",
    "# Classe del problema per NSGA-II\n",
    "class GolombOptimization:\n",
    "    def __init__(self, udp, n_sat):\n",
    "        \"\"\"\n",
    "        Classe che rappresenta il problema multi-obiettivo.\n",
    "        udp: il problema originale esistente.\n",
    "        n_sat: numero di satelliti.\n",
    "        \"\"\"\n",
    "        self.udp = udp\n",
    "        self.n_var = n_sat * 6  # Numero di variabili\n",
    "        self.n_obj = 2  # Obiettivi multipli\n",
    "        self.bounds = ([-0.5] * self.n_var, [0.5] * self.n_var)\n",
    "\n",
    "    def fitness(self, x):\n",
    "        \"\"\"\n",
    "        Calcola le funzioni obiettivo:\n",
    "        - f1: Fitness originale del problema.\n",
    "        - f2: Varianza negativa delle posizioni.\n",
    "        \"\"\"\n",
    "        f1 = self.udp.fitness(x)[0]  # Fitness originale\n",
    "        positions = np.array(x).reshape(-1, 6)[:, :3]  # Estrarre posizioni XYZ\n",
    "        f2 = -np.var(positions)  # Varianza negativa delle posizioni\n",
    "        return [f1, f2]\n",
    "\n",
    "    def get_bounds(self):\n",
    "        return self.bounds\n",
    "\n",
    "    def get_nobj(self):\n",
    "        return self.n_obj\n",
    "\n",
    "# Ottimizzatore basato su NSGA-II\n",
    "def nsga2_optimizer(udp: orbital_golomb_array, n_sats: int) -> tuple[float, list[float]]:\n",
    "    \"\"\"\n",
    "    Configura ed esegue l'ottimizzazione NSGA-II per il numero dato di satelliti.\n",
    "    \"\"\"\n",
    "    problem = pg.problem(GolombOptimization(udp, n_sats))\n",
    "    algorithm = pg.algorithm(pg.nsga2(gen=100))  # 100 generazioni di default\n",
    "    population = pg.population(problem, size=300)  # Popolazione iniziale\n",
    "    population = algorithm.evolve(population)\n",
    "\n",
    "    # Estrai il fronte di Pareto\n",
    "    pareto_fitness = population.get_f()\n",
    "    pareto_vectors = population.get_x()\n",
    "\n",
    "    # Seleziona la soluzione migliore rispetto al primo obiettivo\n",
    "    best_idx = np.argmin(pareto_fitness[:, 0])\n",
    "    best_solution = pareto_vectors[best_idx]\n",
    "    best_fitness = pareto_fitness[best_idx][0]\n",
    "    #print_result(udp, best_solution, 300, show_simulated_reconstruction=True)\n",
    "    return best_fitness, best_solution\n",
    "\n",
    "\n",
    "# Esecuzione principale\n",
    "if __name__ == \"__main__\":\n",
    "    UDP = init_simple_problem()  # Inizializza il problema\n",
    "    \n",
    "    n_sats_range = range(5, 40, 5)  # Incremento di difficoltà: 5 -> 10 -> ... -> 35\n",
    "\n",
    "    # Esegui l'ottimizzazione dinamica\n",
    "    ret = increase_difficulty(UDP, n_sats_range, nsga2_optimizer)\n",
    "    del ret"
   ]
  },
  {
   "cell_type": "markdown",
   "metadata": {},
   "source": [
    "## Grey Wolf"
   ]
  },
  {
   "cell_type": "code",
   "execution_count": null,
   "metadata": {},
   "outputs": [],
   "source": []
  },
  {
   "cell_type": "markdown",
   "metadata": {},
   "source": [
    "## Differencial Evolution"
   ]
  },
  {
   "cell_type": "code",
   "execution_count": null,
   "metadata": {},
   "outputs": [],
   "source": []
  }
 ],
 "metadata": {
  "kernelspec": {
   "display_name": "Python 3",
   "language": "python",
   "name": "python3"
  },
  "language_info": {
   "codemirror_mode": {
    "name": "ipython",
    "version": 3
   },
   "file_extension": ".py",
   "mimetype": "text/x-python",
   "name": "python",
   "nbconvert_exporter": "python",
   "pygments_lexer": "ipython3",
   "version": "3.11.11"
  }
 },
 "nbformat": 4,
 "nbformat_minor": 2
}
